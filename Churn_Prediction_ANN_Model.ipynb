{
 "cells": [
  {
   "cell_type": "code",
   "execution_count": 1,
   "id": "22a9b22c",
   "metadata": {},
   "outputs": [
    {
     "name": "stdout",
     "output_type": "stream",
     "text": [
      "      \n"
     ]
    }
   ],
   "source": [
    "print(\"      \")"
   ]
  },
  {
   "cell_type": "markdown",
   "id": "955dd2ed",
   "metadata": {},
   "source": [
    "### Verify the environment"
   ]
  },
  {
   "cell_type": "code",
   "execution_count": 4,
   "id": "dcfd2657",
   "metadata": {},
   "outputs": [
    {
     "name": "stdout",
     "output_type": "stream",
     "text": [
      "# conda environments:\n",
      "#\n",
      "base                     C:\\Users\\SAIRAM\\anaconda3\n",
      "MLForCloudDeployment_Heroku     C:\\Users\\SAIRAM\\anaconda3\\envs\\MLForCloudDeployment_Heroku\n",
      "Mask_App_Detector        C:\\Users\\SAIRAM\\anaconda3\\envs\\Mask_App_Detector\n",
      "WaferFaultDetection_new     C:\\Users\\SAIRAM\\anaconda3\\envs\\WaferFaultDetection_new\n",
      "boston_env               C:\\Users\\SAIRAM\\anaconda3\\envs\\boston_env\n",
      "churn_modelling_ANN   *  C:\\Users\\SAIRAM\\anaconda3\\envs\\churn_modelling_ANN\n",
      "flask_demo               C:\\Users\\SAIRAM\\anaconda3\\envs\\flask_demo\n",
      "pyspark_env              C:\\Users\\SAIRAM\\anaconda3\\envs\\pyspark_env\n",
      "tfod1.x                  C:\\Users\\SAIRAM\\anaconda3\\envs\\tfod1.x\n",
      "                         E:\\OneNeuron\\Boston House price\\EndtoEnd_project\\boston-house-pricing\\boston_env1\n",
      "\n"
     ]
    }
   ],
   "source": [
    "!conda env list"
   ]
  },
  {
   "cell_type": "markdown",
   "id": "f304cc1c",
   "metadata": {},
   "source": [
    "### Verify the packages installed"
   ]
  },
  {
   "cell_type": "code",
   "execution_count": 5,
   "id": "eb6969f7",
   "metadata": {},
   "outputs": [
    {
     "name": "stdout",
     "output_type": "stream",
     "text": [
      "anyio @ file:///C:/ci/anyio_1644481921011/work/dist\n",
      "argon2-cffi @ file:///opt/conda/conda-bld/argon2-cffi_1645000214183/work\n",
      "argon2-cffi-bindings @ file:///C:/ci/argon2-cffi-bindings_1644551690056/work\n",
      "asttokens==2.0.8\n",
      "attrs @ file:///opt/conda/conda-bld/attrs_1642510447205/work\n",
      "Babel @ file:///tmp/build/80754af9/babel_1620871417480/work\n",
      "backcall @ file:///home/ktietz/src/ci/backcall_1611930011877/work\n",
      "beautifulsoup4 @ file:///C:/ci/beautifulsoup4_1650293025093/work\n",
      "bleach @ file:///opt/conda/conda-bld/bleach_1641577558959/work\n",
      "brotlipy==0.7.0\n",
      "certifi @ file:///C:/Windows/TEMP/abs_e9b7158a-aa56-4a5b-87b6-c00d295b01fanefpc8_o/croots/recipe/certifi_1655968940823/work/certifi\n",
      "cffi @ file:///C:/Windows/Temp/abs_6808y9x40v/croots/recipe/cffi_1659598653989/work\n",
      "charset-normalizer @ file:///tmp/build/80754af9/charset-normalizer_1630003229654/work\n",
      "colorama @ file:///C:/Windows/TEMP/abs_9439aeb1-0254-449a-96f7-33ab5eb17fc8apleb4yn/croots/recipe/colorama_1657009099097/work\n",
      "cryptography @ file:///C:/ci/cryptography_1652083563162/work\n",
      "debugpy==1.6.3\n",
      "decorator @ file:///opt/conda/conda-bld/decorator_1643638310831/work\n",
      "defusedxml @ file:///tmp/build/80754af9/defusedxml_1615228127516/work\n",
      "entrypoints @ file:///C:/ci/entrypoints_1649926621128/work\n",
      "executing==1.0.0\n",
      "fastjsonschema @ file:///C:/Users/BUILDE~1/AppData/Local/Temp/abs_ebruxzvd08/croots/recipe/python-fastjsonschema_1661376484940/work\n",
      "idna @ file:///tmp/build/80754af9/idna_1637925883363/work\n",
      "ipykernel @ file:///C:/b/abs_21ykzkm7y_/croots/recipe/ipykernel_1662361803478/work\n",
      "ipython==8.5.0\n",
      "ipython-genutils @ file:///tmp/build/80754af9/ipython_genutils_1606773439826/work\n",
      "ipywidgets @ file:///tmp/build/80754af9/ipywidgets_1634143127070/work\n",
      "jedi @ file:///C:/ci/jedi_1644315428289/work\n",
      "Jinja2 @ file:///opt/conda/conda-bld/jinja2_1647436528585/work\n",
      "json5 @ file:///tmp/build/80754af9/json5_1624432770122/work\n",
      "jsonschema @ file:///C:/ci/jsonschema_1650008058050/work\n",
      "jupyter @ file:///C:/Windows/TEMP/abs_56xfdi__li/croots/recipe/jupyter_1659349053177/work\n",
      "jupyter-console @ file:///opt/conda/conda-bld/jupyter_console_1647002188872/work\n",
      "jupyter-core==4.11.1\n",
      "jupyter-server @ file:///C:/Windows/TEMP/abs_d3c42c59-765d-4f9b-9fa3-ad5b1369485611i_yual/croots/recipe/jupyter_server_1658754493238/work\n",
      "jupyter_client @ file:///C:/b/abs_8fbm7986b_/croots/recipe/jupyter_client_1662504374117/work\n",
      "jupyterlab @ file:///C:/ci/jupyterlab_1658891142428/work\n",
      "jupyterlab-pygments @ file:///tmp/build/80754af9/jupyterlab_pygments_1601490720602/work\n",
      "jupyterlab-server @ file:///C:/ci/jupyterlab_server_1650289977918/work\n",
      "jupyterlab-widgets @ file:///tmp/build/80754af9/jupyterlab_widgets_1609884341231/work\n",
      "MarkupSafe @ file:///C:/ci/markupsafe_1654508077284/work\n",
      "matplotlib-inline @ file:///C:/ci/matplotlib-inline_1661915841596/work\n",
      "mistune @ file:///C:/ci/mistune_1607359457024/work\n",
      "nbclassic @ file:///opt/conda/conda-bld/nbclassic_1644943264176/work\n",
      "nbclient @ file:///C:/ci/nbclient_1650290387259/work\n",
      "nbconvert @ file:///C:/ci/nbconvert_1649741016669/work\n",
      "nbformat @ file:///C:/ci/nbformat_1649845125000/work\n",
      "nest-asyncio @ file:///C:/ci/nest-asyncio_1649829929390/work\n",
      "notebook @ file:///C:/Windows/TEMP/abs_79abr1_60s/croots/recipe/notebook_1659083661851/work\n",
      "numpy==1.23.2\n",
      "packaging @ file:///tmp/build/80754af9/packaging_1637314298585/work\n",
      "pandas==1.4.4\n",
      "pandocfilters @ file:///opt/conda/conda-bld/pandocfilters_1643405455980/work\n",
      "parso @ file:///opt/conda/conda-bld/parso_1641458642106/work\n",
      "pickleshare @ file:///tmp/build/80754af9/pickleshare_1606932040724/work\n",
      "ply==3.11\n",
      "prometheus-client @ file:///C:/Windows/TEMP/abs_ab9nx8qb08/croots/recipe/prometheus_client_1659455104602/work\n",
      "prompt-toolkit==3.0.31\n",
      "psutil==5.9.2\n",
      "pure-eval @ file:///opt/conda/conda-bld/pure_eval_1646925070566/work\n",
      "pycparser @ file:///tmp/build/80754af9/pycparser_1636541352034/work\n",
      "Pygments==2.13.0\n",
      "pyOpenSSL @ file:///opt/conda/conda-bld/pyopenssl_1643788558760/work\n",
      "pyparsing @ file:///C:/Users/BUILDE~1/AppData/Local/Temp/abs_7f_7lba6rl/croots/recipe/pyparsing_1661452540662/work\n",
      "PyQt5==5.15.7\n",
      "PyQt5-sip @ file:///C:/Windows/Temp/abs_d7gmd2jg8i/croots/recipe/pyqt-split_1659273064801/work/pyqt_sip\n",
      "pyrsistent @ file:///C:/ci/pyrsistent_1636093225342/work\n",
      "PySocks @ file:///C:/ci/pysocks_1605307512533/work\n",
      "python-dateutil @ file:///tmp/build/80754af9/python-dateutil_1626374649649/work\n",
      "pytz==2022.2.1\n",
      "pywin32==304\n",
      "pywinpty @ file:///C:/ci_310/pywinpty_1644230983541/work/target/wheels/pywinpty-2.0.2-cp39-none-win_amd64.whl\n",
      "pyzmq==23.2.1\n",
      "qtconsole @ file:///C:/ci/qtconsole_1662019208635/work\n",
      "QtPy @ file:///C:/ci/qtpy_1662015096047/work\n",
      "requests @ file:///C:/ci/requests_1657735342357/work\n",
      "Send2Trash @ file:///tmp/build/80754af9/send2trash_1632406701022/work\n",
      "sip @ file:///C:/Windows/Temp/abs_b8fxd17m2u/croots/recipe/sip_1659012372737/work\n",
      "six @ file:///tmp/build/80754af9/six_1644875935023/work\n",
      "sniffio @ file:///C:/ci/sniffio_1614030527509/work\n",
      "soupsieve @ file:///tmp/build/80754af9/soupsieve_1636706018808/work\n",
      "stack-data==0.5.0\n",
      "terminado @ file:///C:/ci/terminado_1644322780199/work\n",
      "testpath @ file:///C:/Windows/TEMP/abs_23c7fa33-cbb9-46dc-b7c5-590c38e2de3d4bmbngal/croots/recipe/testpath_1655908553202/work\n",
      "toml @ file:///tmp/build/80754af9/toml_1616166611790/work\n",
      "tornado @ file:///C:/ci/tornado_1662458743919/work\n",
      "traitlets==5.3.0\n",
      "typing_extensions @ file:///C:/Windows/TEMP/abs_dd2d0moa85/croots/recipe/typing_extensions_1659638831135/work\n",
      "urllib3 @ file:///C:/Windows/TEMP/abs_65ynz4fdmi/croots/recipe/urllib3_1659110473919/work\n",
      "wcwidth @ file:///Users/ktietz/demo/mc3/conda-bld/wcwidth_1629357192024/work\n",
      "webencodings==0.5.1\n",
      "websocket-client @ file:///C:/ci/websocket-client_1614804375980/work\n",
      "widgetsnbextension @ file:///C:/ci/widgetsnbextension_1644991377168/work\n",
      "win-inet-pton @ file:///C:/ci/win_inet_pton_1605306162074/work\n",
      "wincertstore==0.2\n"
     ]
    }
   ],
   "source": [
    "!pip freeze"
   ]
  },
  {
   "cell_type": "markdown",
   "id": "4b45c99c",
   "metadata": {},
   "source": [
    "### Import the required packages"
   ]
  },
  {
   "cell_type": "code",
   "execution_count": 168,
   "id": "ffedc3a1",
   "metadata": {},
   "outputs": [],
   "source": [
    "import pandas as pd\n",
    "import numpy as np\n",
    "import matplotlib.pyplot as plt\n",
    "import tensorflow as tf\n",
    "from sklearn.model_selection import train_test_split\n",
    "from sklearn.preprocessing import StandardScaler\n",
    "from sklearn.metrics import confusion_matrix\n",
    "from sklearn.metrics import classification_report"
   ]
  },
  {
   "cell_type": "code",
   "execution_count": 127,
   "id": "9f9e597d",
   "metadata": {},
   "outputs": [],
   "source": [
    "from tensorflow.keras.models import Sequential\n",
    "from tensorflow.keras.layers import Dense, Dropout\n",
    "from tensorflow.keras.layers import ReLU, LeakyReLU, ELU, PReLU"
   ]
  },
  {
   "cell_type": "code",
   "execution_count": 10,
   "id": "8c10d54d",
   "metadata": {},
   "outputs": [
    {
     "name": "stdout",
     "output_type": "stream",
     "text": [
      "Version of Tensorflow is 2.10.0\n"
     ]
    }
   ],
   "source": [
    "print ('Version of Tensorflow is {}'.format(tf.__version__))"
   ]
  },
  {
   "cell_type": "code",
   "execution_count": 12,
   "id": "f2981d92",
   "metadata": {},
   "outputs": [
    {
     "name": "stdout",
     "output_type": "stream",
     "text": [
      "Shape of dataset is (10000, 14)\n",
      "# of data points are 10000\n",
      "# of features are 14\n"
     ]
    }
   ],
   "source": [
    "dataset = pd.read_csv('Churn_Modelling.csv')\n",
    "print('Shape of dataset is {}'.format(dataset.shape))\n",
    "print('# of data points are {}'.format(dataset.shape[0]))\n",
    "print('# of features are {}'.format(dataset.shape[1]))"
   ]
  },
  {
   "cell_type": "code",
   "execution_count": 13,
   "id": "acb04eb5",
   "metadata": {},
   "outputs": [
    {
     "data": {
      "text/html": [
       "<div>\n",
       "<style scoped>\n",
       "    .dataframe tbody tr th:only-of-type {\n",
       "        vertical-align: middle;\n",
       "    }\n",
       "\n",
       "    .dataframe tbody tr th {\n",
       "        vertical-align: top;\n",
       "    }\n",
       "\n",
       "    .dataframe thead th {\n",
       "        text-align: right;\n",
       "    }\n",
       "</style>\n",
       "<table border=\"1\" class=\"dataframe\">\n",
       "  <thead>\n",
       "    <tr style=\"text-align: right;\">\n",
       "      <th></th>\n",
       "      <th>RowNumber</th>\n",
       "      <th>CustomerId</th>\n",
       "      <th>Surname</th>\n",
       "      <th>CreditScore</th>\n",
       "      <th>Geography</th>\n",
       "      <th>Gender</th>\n",
       "      <th>Age</th>\n",
       "      <th>Tenure</th>\n",
       "      <th>Balance</th>\n",
       "      <th>NumOfProducts</th>\n",
       "      <th>HasCrCard</th>\n",
       "      <th>IsActiveMember</th>\n",
       "      <th>EstimatedSalary</th>\n",
       "      <th>Exited</th>\n",
       "    </tr>\n",
       "  </thead>\n",
       "  <tbody>\n",
       "    <tr>\n",
       "      <th>0</th>\n",
       "      <td>1</td>\n",
       "      <td>15634602</td>\n",
       "      <td>Hargrave</td>\n",
       "      <td>619</td>\n",
       "      <td>France</td>\n",
       "      <td>Female</td>\n",
       "      <td>42</td>\n",
       "      <td>2</td>\n",
       "      <td>0.00</td>\n",
       "      <td>1</td>\n",
       "      <td>1</td>\n",
       "      <td>1</td>\n",
       "      <td>101348.88</td>\n",
       "      <td>1</td>\n",
       "    </tr>\n",
       "    <tr>\n",
       "      <th>1</th>\n",
       "      <td>2</td>\n",
       "      <td>15647311</td>\n",
       "      <td>Hill</td>\n",
       "      <td>608</td>\n",
       "      <td>Spain</td>\n",
       "      <td>Female</td>\n",
       "      <td>41</td>\n",
       "      <td>1</td>\n",
       "      <td>83807.86</td>\n",
       "      <td>1</td>\n",
       "      <td>0</td>\n",
       "      <td>1</td>\n",
       "      <td>112542.58</td>\n",
       "      <td>0</td>\n",
       "    </tr>\n",
       "    <tr>\n",
       "      <th>2</th>\n",
       "      <td>3</td>\n",
       "      <td>15619304</td>\n",
       "      <td>Onio</td>\n",
       "      <td>502</td>\n",
       "      <td>France</td>\n",
       "      <td>Female</td>\n",
       "      <td>42</td>\n",
       "      <td>8</td>\n",
       "      <td>159660.80</td>\n",
       "      <td>3</td>\n",
       "      <td>1</td>\n",
       "      <td>0</td>\n",
       "      <td>113931.57</td>\n",
       "      <td>1</td>\n",
       "    </tr>\n",
       "    <tr>\n",
       "      <th>3</th>\n",
       "      <td>4</td>\n",
       "      <td>15701354</td>\n",
       "      <td>Boni</td>\n",
       "      <td>699</td>\n",
       "      <td>France</td>\n",
       "      <td>Female</td>\n",
       "      <td>39</td>\n",
       "      <td>1</td>\n",
       "      <td>0.00</td>\n",
       "      <td>2</td>\n",
       "      <td>0</td>\n",
       "      <td>0</td>\n",
       "      <td>93826.63</td>\n",
       "      <td>0</td>\n",
       "    </tr>\n",
       "    <tr>\n",
       "      <th>4</th>\n",
       "      <td>5</td>\n",
       "      <td>15737888</td>\n",
       "      <td>Mitchell</td>\n",
       "      <td>850</td>\n",
       "      <td>Spain</td>\n",
       "      <td>Female</td>\n",
       "      <td>43</td>\n",
       "      <td>2</td>\n",
       "      <td>125510.82</td>\n",
       "      <td>1</td>\n",
       "      <td>1</td>\n",
       "      <td>1</td>\n",
       "      <td>79084.10</td>\n",
       "      <td>0</td>\n",
       "    </tr>\n",
       "  </tbody>\n",
       "</table>\n",
       "</div>"
      ],
      "text/plain": [
       "   RowNumber  CustomerId   Surname  CreditScore Geography  Gender  Age  \\\n",
       "0          1    15634602  Hargrave          619    France  Female   42   \n",
       "1          2    15647311      Hill          608     Spain  Female   41   \n",
       "2          3    15619304      Onio          502    France  Female   42   \n",
       "3          4    15701354      Boni          699    France  Female   39   \n",
       "4          5    15737888  Mitchell          850     Spain  Female   43   \n",
       "\n",
       "   Tenure    Balance  NumOfProducts  HasCrCard  IsActiveMember  \\\n",
       "0       2       0.00              1          1               1   \n",
       "1       1   83807.86              1          0               1   \n",
       "2       8  159660.80              3          1               0   \n",
       "3       1       0.00              2          0               0   \n",
       "4       2  125510.82              1          1               1   \n",
       "\n",
       "   EstimatedSalary  Exited  \n",
       "0        101348.88       1  \n",
       "1        112542.58       0  \n",
       "2        113931.57       1  \n",
       "3         93826.63       0  \n",
       "4         79084.10       0  "
      ]
     },
     "execution_count": 13,
     "metadata": {},
     "output_type": "execute_result"
    }
   ],
   "source": [
    "dataset.head()"
   ]
  },
  {
   "cell_type": "markdown",
   "id": "8bc4cd5a",
   "metadata": {},
   "source": [
    "### Quick stats"
   ]
  },
  {
   "cell_type": "code",
   "execution_count": 15,
   "id": "b42a208e",
   "metadata": {},
   "outputs": [
    {
     "data": {
      "text/html": [
       "<div>\n",
       "<style scoped>\n",
       "    .dataframe tbody tr th:only-of-type {\n",
       "        vertical-align: middle;\n",
       "    }\n",
       "\n",
       "    .dataframe tbody tr th {\n",
       "        vertical-align: top;\n",
       "    }\n",
       "\n",
       "    .dataframe thead th {\n",
       "        text-align: right;\n",
       "    }\n",
       "</style>\n",
       "<table border=\"1\" class=\"dataframe\">\n",
       "  <thead>\n",
       "    <tr style=\"text-align: right;\">\n",
       "      <th></th>\n",
       "      <th>count</th>\n",
       "      <th>mean</th>\n",
       "      <th>std</th>\n",
       "      <th>min</th>\n",
       "      <th>25%</th>\n",
       "      <th>50%</th>\n",
       "      <th>75%</th>\n",
       "      <th>max</th>\n",
       "    </tr>\n",
       "  </thead>\n",
       "  <tbody>\n",
       "    <tr>\n",
       "      <th>RowNumber</th>\n",
       "      <td>10000.0</td>\n",
       "      <td>5.000500e+03</td>\n",
       "      <td>2886.895680</td>\n",
       "      <td>1.00</td>\n",
       "      <td>2500.75</td>\n",
       "      <td>5.000500e+03</td>\n",
       "      <td>7.500250e+03</td>\n",
       "      <td>10000.00</td>\n",
       "    </tr>\n",
       "    <tr>\n",
       "      <th>CustomerId</th>\n",
       "      <td>10000.0</td>\n",
       "      <td>1.569094e+07</td>\n",
       "      <td>71936.186123</td>\n",
       "      <td>15565701.00</td>\n",
       "      <td>15628528.25</td>\n",
       "      <td>1.569074e+07</td>\n",
       "      <td>1.575323e+07</td>\n",
       "      <td>15815690.00</td>\n",
       "    </tr>\n",
       "    <tr>\n",
       "      <th>CreditScore</th>\n",
       "      <td>10000.0</td>\n",
       "      <td>6.505288e+02</td>\n",
       "      <td>96.653299</td>\n",
       "      <td>350.00</td>\n",
       "      <td>584.00</td>\n",
       "      <td>6.520000e+02</td>\n",
       "      <td>7.180000e+02</td>\n",
       "      <td>850.00</td>\n",
       "    </tr>\n",
       "    <tr>\n",
       "      <th>Age</th>\n",
       "      <td>10000.0</td>\n",
       "      <td>3.892180e+01</td>\n",
       "      <td>10.487806</td>\n",
       "      <td>18.00</td>\n",
       "      <td>32.00</td>\n",
       "      <td>3.700000e+01</td>\n",
       "      <td>4.400000e+01</td>\n",
       "      <td>92.00</td>\n",
       "    </tr>\n",
       "    <tr>\n",
       "      <th>Tenure</th>\n",
       "      <td>10000.0</td>\n",
       "      <td>5.012800e+00</td>\n",
       "      <td>2.892174</td>\n",
       "      <td>0.00</td>\n",
       "      <td>3.00</td>\n",
       "      <td>5.000000e+00</td>\n",
       "      <td>7.000000e+00</td>\n",
       "      <td>10.00</td>\n",
       "    </tr>\n",
       "    <tr>\n",
       "      <th>Balance</th>\n",
       "      <td>10000.0</td>\n",
       "      <td>7.648589e+04</td>\n",
       "      <td>62397.405202</td>\n",
       "      <td>0.00</td>\n",
       "      <td>0.00</td>\n",
       "      <td>9.719854e+04</td>\n",
       "      <td>1.276442e+05</td>\n",
       "      <td>250898.09</td>\n",
       "    </tr>\n",
       "    <tr>\n",
       "      <th>NumOfProducts</th>\n",
       "      <td>10000.0</td>\n",
       "      <td>1.530200e+00</td>\n",
       "      <td>0.581654</td>\n",
       "      <td>1.00</td>\n",
       "      <td>1.00</td>\n",
       "      <td>1.000000e+00</td>\n",
       "      <td>2.000000e+00</td>\n",
       "      <td>4.00</td>\n",
       "    </tr>\n",
       "    <tr>\n",
       "      <th>HasCrCard</th>\n",
       "      <td>10000.0</td>\n",
       "      <td>7.055000e-01</td>\n",
       "      <td>0.455840</td>\n",
       "      <td>0.00</td>\n",
       "      <td>0.00</td>\n",
       "      <td>1.000000e+00</td>\n",
       "      <td>1.000000e+00</td>\n",
       "      <td>1.00</td>\n",
       "    </tr>\n",
       "    <tr>\n",
       "      <th>IsActiveMember</th>\n",
       "      <td>10000.0</td>\n",
       "      <td>5.151000e-01</td>\n",
       "      <td>0.499797</td>\n",
       "      <td>0.00</td>\n",
       "      <td>0.00</td>\n",
       "      <td>1.000000e+00</td>\n",
       "      <td>1.000000e+00</td>\n",
       "      <td>1.00</td>\n",
       "    </tr>\n",
       "    <tr>\n",
       "      <th>EstimatedSalary</th>\n",
       "      <td>10000.0</td>\n",
       "      <td>1.000902e+05</td>\n",
       "      <td>57510.492818</td>\n",
       "      <td>11.58</td>\n",
       "      <td>51002.11</td>\n",
       "      <td>1.001939e+05</td>\n",
       "      <td>1.493882e+05</td>\n",
       "      <td>199992.48</td>\n",
       "    </tr>\n",
       "    <tr>\n",
       "      <th>Exited</th>\n",
       "      <td>10000.0</td>\n",
       "      <td>2.037000e-01</td>\n",
       "      <td>0.402769</td>\n",
       "      <td>0.00</td>\n",
       "      <td>0.00</td>\n",
       "      <td>0.000000e+00</td>\n",
       "      <td>0.000000e+00</td>\n",
       "      <td>1.00</td>\n",
       "    </tr>\n",
       "  </tbody>\n",
       "</table>\n",
       "</div>"
      ],
      "text/plain": [
       "                   count          mean           std          min  \\\n",
       "RowNumber        10000.0  5.000500e+03   2886.895680         1.00   \n",
       "CustomerId       10000.0  1.569094e+07  71936.186123  15565701.00   \n",
       "CreditScore      10000.0  6.505288e+02     96.653299       350.00   \n",
       "Age              10000.0  3.892180e+01     10.487806        18.00   \n",
       "Tenure           10000.0  5.012800e+00      2.892174         0.00   \n",
       "Balance          10000.0  7.648589e+04  62397.405202         0.00   \n",
       "NumOfProducts    10000.0  1.530200e+00      0.581654         1.00   \n",
       "HasCrCard        10000.0  7.055000e-01      0.455840         0.00   \n",
       "IsActiveMember   10000.0  5.151000e-01      0.499797         0.00   \n",
       "EstimatedSalary  10000.0  1.000902e+05  57510.492818        11.58   \n",
       "Exited           10000.0  2.037000e-01      0.402769         0.00   \n",
       "\n",
       "                         25%           50%           75%          max  \n",
       "RowNumber            2500.75  5.000500e+03  7.500250e+03     10000.00  \n",
       "CustomerId       15628528.25  1.569074e+07  1.575323e+07  15815690.00  \n",
       "CreditScore           584.00  6.520000e+02  7.180000e+02       850.00  \n",
       "Age                    32.00  3.700000e+01  4.400000e+01        92.00  \n",
       "Tenure                  3.00  5.000000e+00  7.000000e+00        10.00  \n",
       "Balance                 0.00  9.719854e+04  1.276442e+05    250898.09  \n",
       "NumOfProducts           1.00  1.000000e+00  2.000000e+00         4.00  \n",
       "HasCrCard               0.00  1.000000e+00  1.000000e+00         1.00  \n",
       "IsActiveMember          0.00  1.000000e+00  1.000000e+00         1.00  \n",
       "EstimatedSalary     51002.11  1.001939e+05  1.493882e+05    199992.48  \n",
       "Exited                  0.00  0.000000e+00  0.000000e+00         1.00  "
      ]
     },
     "execution_count": 15,
     "metadata": {},
     "output_type": "execute_result"
    }
   ],
   "source": [
    "dataset.describe().T"
   ]
  },
  {
   "cell_type": "code",
   "execution_count": 18,
   "id": "10a83386",
   "metadata": {},
   "outputs": [
    {
     "name": "stdout",
     "output_type": "stream",
     "text": [
      "10000\n",
      "10000\n"
     ]
    }
   ],
   "source": [
    "print(dataset['RowNumber'].nunique())\n",
    "print(dataset['CustomerId'].nunique())"
   ]
  },
  {
   "cell_type": "markdown",
   "id": "7e6408b6",
   "metadata": {},
   "source": [
    "* Unique Rownumbers - cannot add value to the model - Exclude this feature"
   ]
  },
  {
   "cell_type": "markdown",
   "id": "6cdea437",
   "metadata": {},
   "source": [
    "### Exploratory data analysis"
   ]
  },
  {
   "cell_type": "code",
   "execution_count": 51,
   "id": "663e6ce5",
   "metadata": {},
   "outputs": [
    {
     "data": {
      "text/plain": [
       "0    7963\n",
       "1    2037\n",
       "Name: Exited, dtype: int64"
      ]
     },
     "execution_count": 51,
     "metadata": {},
     "output_type": "execute_result"
    }
   ],
   "source": [
    "dataset['Exited'].value_counts()"
   ]
  },
  {
   "cell_type": "markdown",
   "id": "9751192d",
   "metadata": {},
   "source": [
    "* 20% of values are exited - Bit imbalanced dataset"
   ]
  },
  {
   "cell_type": "markdown",
   "id": "22a5fdc6",
   "metadata": {},
   "source": [
    "### Age"
   ]
  },
  {
   "cell_type": "code",
   "execution_count": 33,
   "id": "1354c895",
   "metadata": {},
   "outputs": [
    {
     "data": {
      "text/plain": [
       "<AxesSubplot:xlabel='Exited'>"
      ]
     },
     "execution_count": 33,
     "metadata": {},
     "output_type": "execute_result"
    },
    {
     "data": {
      "image/png": "[encoded data removed]",
      "text/plain": [
       "<Figure size 400x400 with 1 Axes>"
      ]
     },
     "metadata": {},
     "output_type": "display_data"
    }
   ],
   "source": [
    "plt.figure(figsize=(4,4))\n",
    "dataset.groupby('Exited')['Age'].median().plot(kind='bar')"
   ]
  },
  {
   "cell_type": "markdown",
   "id": "e30f61f6",
   "metadata": {},
   "source": [
    "* Median age differs for Exited & non-exited customers"
   ]
  },
  {
   "cell_type": "markdown",
   "id": "3f45ce59",
   "metadata": {},
   "source": [
    "### Tenure"
   ]
  },
  {
   "cell_type": "code",
   "execution_count": 37,
   "id": "a92c3366",
   "metadata": {},
   "outputs": [
    {
     "name": "stdout",
     "output_type": "stream",
     "text": [
      "Number of unique values of Tenure: 11\n"
     ]
    }
   ],
   "source": [
    "print('Number of unique values of Tenure:', dataset['Tenure'].nunique())"
   ]
  },
  {
   "cell_type": "code",
   "execution_count": 46,
   "id": "ed35c37d",
   "metadata": {},
   "outputs": [
    {
     "data": {
      "text/plain": [
       "<AxesSubplot:xlabel='Tenure'>"
      ]
     },
     "execution_count": 46,
     "metadata": {},
     "output_type": "execute_result"
    },
    {
     "data": {
      "image/png": "[encoded data removed]",
      "text/plain": [
       "<Figure size 640x480 with 1 Axes>"
      ]
     },
     "metadata": {},
     "output_type": "display_data"
    }
   ],
   "source": [
    "dataset.groupby('Tenure')['Exited'].mean().plot(kind='bar')"
   ]
  },
  {
   "cell_type": "markdown",
   "id": "c667e6ee",
   "metadata": {},
   "source": [
    "* Tenure alone cannot establish any strong signals regarding churn\n",
    "* Customers with 0 years of tenure have an more avergae of existing probability (>22%)"
   ]
  },
  {
   "cell_type": "markdown",
   "id": "4eaa6979",
   "metadata": {},
   "source": [
    "### Balance"
   ]
  },
  {
   "cell_type": "code",
   "execution_count": 49,
   "id": "4deb59ab",
   "metadata": {},
   "outputs": [
    {
     "data": {
      "text/plain": [
       "<AxesSubplot:xlabel='Exited'>"
      ]
     },
     "execution_count": 49,
     "metadata": {},
     "output_type": "execute_result"
    },
    {
     "data": {
      "image/png": "[encoded data removed]",
      "text/plain": [
       "<Figure size 400x200 with 1 Axes>"
      ]
     },
     "metadata": {},
     "output_type": "display_data"
    }
   ],
   "source": [
    "plt.figure(figsize=(4,2))\n",
    "dataset.groupby('Exited')['Balance'].mean().plot(kind='bar')"
   ]
  },
  {
   "cell_type": "markdown",
   "id": "e3e92af0",
   "metadata": {},
   "source": [
    "* Customers with high balance are likely to part away from the company"
   ]
  },
  {
   "cell_type": "markdown",
   "id": "512c96d0",
   "metadata": {},
   "source": [
    "### NumOfProducts"
   ]
  },
  {
   "cell_type": "code",
   "execution_count": 55,
   "id": "8e6bfe99",
   "metadata": {},
   "outputs": [
    {
     "name": "stdout",
     "output_type": "stream",
     "text": [
      "Number of unique values of NumOfProducts: 4\n"
     ]
    }
   ],
   "source": [
    "print('Number of unique values of NumOfProducts:', dataset['NumOfProducts'].nunique())"
   ]
  },
  {
   "cell_type": "code",
   "execution_count": 107,
   "id": "4e6be23a",
   "metadata": {},
   "outputs": [
    {
     "data": {
      "text/plain": [
       "<AxesSubplot:title={'center':'Product=4'}, xlabel='Exited'>"
      ]
     },
     "execution_count": 107,
     "metadata": {},
     "output_type": "execute_result"
    },
    {
     "data": {
      "image/png": "[encoded data removed]",
      "text/plain": [
       "<Figure size 800x400 with 4 Axes>"
      ]
     },
     "metadata": {},
     "output_type": "display_data"
    }
   ],
   "source": [
    "#dataset.groupby('NumOfProducts')['Exited'].mean().plot(kind='bar')\n",
    "\n",
    "fig, axes = plt.subplots(1,4)\n",
    "fig.set_size_inches(8,4)\n",
    "\n",
    "temp = dataset[dataset['NumOfProducts'] == 1]\n",
    "temp.groupby('Exited')['NumOfProducts'].count().plot(kind='bar', title='Product=1', ax=axes[0], sharey=True)\n",
    "\n",
    "temp = dataset[dataset['NumOfProducts'] == 2]\n",
    "temp.groupby('Exited')['NumOfProducts'].count().plot(kind='bar', title='Product=2', ax=axes[1])\n",
    "\n",
    "temp = dataset[dataset['NumOfProducts'] == 3]\n",
    "temp.groupby('Exited')['NumOfProducts'].count().plot(kind='bar', title='Product=3', ax=axes[2])\n",
    "\n",
    "temp = dataset[dataset['NumOfProducts'] == 4]\n",
    "temp.groupby('Exited')['NumOfProducts'].count().plot(kind='bar', title='Product=4', ax=axes[3])\n"
   ]
  },
  {
   "cell_type": "markdown",
   "id": "2db06373",
   "metadata": {},
   "source": [
    "* Customers with more number of products are likely to exit"
   ]
  },
  {
   "cell_type": "markdown",
   "id": "0504d02a",
   "metadata": {},
   "source": [
    "### HasCrCard"
   ]
  },
  {
   "cell_type": "code",
   "execution_count": 101,
   "id": "46198479",
   "metadata": {},
   "outputs": [
    {
     "data": {
      "image/png": "[encoded data removed]",
      "text/plain": [
       "<Figure size 800x400 with 2 Axes>"
      ]
     },
     "metadata": {},
     "output_type": "display_data"
    }
   ],
   "source": [
    "#plt.figure(figsize=(4,4))\n",
    "#dataset.groupby('HasCrCard')['Exited'].mean().plot(kind='bar')\n",
    "\n",
    "nrow = 1\n",
    "ncol = 2\n",
    "\n",
    "fig, axes = plt.subplots(nrow, ncol)\n",
    "fig.set_size_inches(8,4)\n",
    "\n",
    "temp = dataset[dataset['HasCrCard'] == 0]\n",
    "temp.groupby('Exited')['HasCrCard'].count().plot(kind='bar', title='No card', ax=axes[0])\n",
    "\n",
    "temp = dataset[dataset['HasCrCard'] == 1]\n",
    "temp.groupby('Exited')['HasCrCard'].count().plot(kind='bar', title='Yes Card', ax=axes[1])\n",
    "\n",
    "plt.show()\n"
   ]
  },
  {
   "cell_type": "markdown",
   "id": "84be43f5",
   "metadata": {},
   "source": [
    "* Has card alone cannot explain anything related to churn"
   ]
  },
  {
   "cell_type": "markdown",
   "id": "6a4e7276",
   "metadata": {},
   "source": [
    "### IsActiveMember"
   ]
  },
  {
   "cell_type": "code",
   "execution_count": 63,
   "id": "086fd315",
   "metadata": {},
   "outputs": [
    {
     "data": {
      "text/plain": [
       "1    5151\n",
       "0    4849\n",
       "Name: IsActiveMember, dtype: int64"
      ]
     },
     "execution_count": 63,
     "metadata": {},
     "output_type": "execute_result"
    }
   ],
   "source": [
    "dataset['IsActiveMember'].value_counts()"
   ]
  },
  {
   "cell_type": "code",
   "execution_count": 98,
   "id": "6f95601b",
   "metadata": {},
   "outputs": [
    {
     "data": {
      "image/png": "[encoded data removed]",
      "text/plain": [
       "<Figure size 800x400 with 2 Axes>"
      ]
     },
     "metadata": {},
     "output_type": "display_data"
    }
   ],
   "source": [
    "nrows=1\n",
    "ncols=2\n",
    "\n",
    "fig, axes = plt.subplots(nrows, ncols)\n",
    "fig.set_size_inches(8,4)\n",
    "\n",
    "temp = dataset[dataset['IsActiveMember'] == 0]\n",
    "temp.groupby('Exited')['IsActiveMember'].count().plot(kind='bar', ax=axes[0], title='Inactive Member')\n",
    "\n",
    "temp = dataset[dataset['IsActiveMember'] == 1]\n",
    "temp.groupby('Exited')['IsActiveMember'].count().plot(kind='bar', ax=axes[1], title='Active Member')\n",
    "\n",
    "plt.show()\n",
    "\n"
   ]
  },
  {
   "cell_type": "markdown",
   "id": "947abd31",
   "metadata": {},
   "source": [
    "* Inactive member are more likely to discontinue than active members"
   ]
  },
  {
   "cell_type": "markdown",
   "id": "49db7ed7",
   "metadata": {},
   "source": [
    "### Independent & dependent features"
   ]
  },
  {
   "cell_type": "code",
   "execution_count": 108,
   "id": "1bdb2779",
   "metadata": {},
   "outputs": [
    {
     "data": {
      "text/plain": [
       "Index(['RowNumber', 'CustomerId', 'Surname', 'CreditScore', 'Geography',\n",
       "       'Gender', 'Age', 'Tenure', 'Balance', 'NumOfProducts', 'HasCrCard',\n",
       "       'IsActiveMember', 'EstimatedSalary', 'Exited'],\n",
       "      dtype='object')"
      ]
     },
     "execution_count": 108,
     "metadata": {},
     "output_type": "execute_result"
    }
   ],
   "source": [
    "dataset.columns"
   ]
  },
  {
   "cell_type": "code",
   "execution_count": 110,
   "id": "80d8bf19",
   "metadata": {},
   "outputs": [
    {
     "name": "stdout",
     "output_type": "stream",
     "text": [
      "Shape of independent features (10000, 10)\n",
      "Shape of  dependent features (10000,)\n"
     ]
    },
    {
     "data": {
      "text/plain": [
       "(   CreditScore Geography  Gender  Age  Tenure    Balance  NumOfProducts  \\\n",
       " 0          619    France  Female   42       2       0.00              1   \n",
       " 1          608     Spain  Female   41       1   83807.86              1   \n",
       " 2          502    France  Female   42       8  159660.80              3   \n",
       " 3          699    France  Female   39       1       0.00              2   \n",
       " 4          850     Spain  Female   43       2  125510.82              1   \n",
       " \n",
       "    HasCrCard  IsActiveMember  EstimatedSalary  \n",
       " 0          1               1        101348.88  \n",
       " 1          0               1        112542.58  \n",
       " 2          1               0        113931.57  \n",
       " 3          0               0         93826.63  \n",
       " 4          1               1         79084.10  ,\n",
       " 0    1\n",
       " 1    0\n",
       " 2    1\n",
       " 3    0\n",
       " 4    0\n",
       " Name: Exited, dtype: int64)"
      ]
     },
     "execution_count": 110,
     "metadata": {},
     "output_type": "execute_result"
    }
   ],
   "source": [
    "X = dataset.drop(['RowNumber', 'CustomerId', 'Surname', 'Exited'], axis=1)\n",
    "Y = dataset['Exited']\n",
    "\n",
    "print('Shape of independent features {}'.format(X.shape))\n",
    "print('Shape of  dependent features {}'.format(Y.shape))\n",
    "\n",
    "X.head(), Y.head()"
   ]
  },
  {
   "cell_type": "code",
   "execution_count": 113,
   "id": "b6ff974a",
   "metadata": {},
   "outputs": [
    {
     "data": {
      "text/plain": [
       "CreditScore          int64\n",
       "Geography           object\n",
       "Gender              object\n",
       "Age                  int64\n",
       "Tenure               int64\n",
       "Balance            float64\n",
       "NumOfProducts        int64\n",
       "HasCrCard            int64\n",
       "IsActiveMember       int64\n",
       "EstimatedSalary    float64\n",
       "dtype: object"
      ]
     },
     "execution_count": 113,
     "metadata": {},
     "output_type": "execute_result"
    }
   ],
   "source": [
    "X.dtypes"
   ]
  },
  {
   "cell_type": "markdown",
   "id": "6c23a93d",
   "metadata": {},
   "source": [
    "### One hot encoding for categorical features"
   ]
  },
  {
   "cell_type": "code",
   "execution_count": 116,
   "id": "22df8bae",
   "metadata": {},
   "outputs": [
    {
     "name": "stdout",
     "output_type": "stream",
     "text": [
      "3\n",
      "2\n"
     ]
    }
   ],
   "source": [
    "#Geography,   Gender                       \n",
    "\n",
    "print(X['Geography'].nunique())\n",
    "print(X['Gender'].nunique())\n"
   ]
  },
  {
   "cell_type": "code",
   "execution_count": 121,
   "id": "f754eb46",
   "metadata": {},
   "outputs": [
    {
     "name": "stdout",
     "output_type": "stream",
     "text": [
      "(10000, 11)\n"
     ]
    },
    {
     "data": {
      "text/html": [
       "<div>\n",
       "<style scoped>\n",
       "    .dataframe tbody tr th:only-of-type {\n",
       "        vertical-align: middle;\n",
       "    }\n",
       "\n",
       "    .dataframe tbody tr th {\n",
       "        vertical-align: top;\n",
       "    }\n",
       "\n",
       "    .dataframe thead th {\n",
       "        text-align: right;\n",
       "    }\n",
       "</style>\n",
       "<table border=\"1\" class=\"dataframe\">\n",
       "  <thead>\n",
       "    <tr style=\"text-align: right;\">\n",
       "      <th></th>\n",
       "      <th>CreditScore</th>\n",
       "      <th>Age</th>\n",
       "      <th>Tenure</th>\n",
       "      <th>Balance</th>\n",
       "      <th>NumOfProducts</th>\n",
       "      <th>HasCrCard</th>\n",
       "      <th>IsActiveMember</th>\n",
       "      <th>EstimatedSalary</th>\n",
       "      <th>Geography_Germany</th>\n",
       "      <th>Geography_Spain</th>\n",
       "      <th>Gender_Male</th>\n",
       "    </tr>\n",
       "  </thead>\n",
       "  <tbody>\n",
       "    <tr>\n",
       "      <th>0</th>\n",
       "      <td>619</td>\n",
       "      <td>42</td>\n",
       "      <td>2</td>\n",
       "      <td>0.00</td>\n",
       "      <td>1</td>\n",
       "      <td>1</td>\n",
       "      <td>1</td>\n",
       "      <td>101348.88</td>\n",
       "      <td>0</td>\n",
       "      <td>0</td>\n",
       "      <td>0</td>\n",
       "    </tr>\n",
       "    <tr>\n",
       "      <th>1</th>\n",
       "      <td>608</td>\n",
       "      <td>41</td>\n",
       "      <td>1</td>\n",
       "      <td>83807.86</td>\n",
       "      <td>1</td>\n",
       "      <td>0</td>\n",
       "      <td>1</td>\n",
       "      <td>112542.58</td>\n",
       "      <td>0</td>\n",
       "      <td>1</td>\n",
       "      <td>0</td>\n",
       "    </tr>\n",
       "    <tr>\n",
       "      <th>2</th>\n",
       "      <td>502</td>\n",
       "      <td>42</td>\n",
       "      <td>8</td>\n",
       "      <td>159660.80</td>\n",
       "      <td>3</td>\n",
       "      <td>1</td>\n",
       "      <td>0</td>\n",
       "      <td>113931.57</td>\n",
       "      <td>0</td>\n",
       "      <td>0</td>\n",
       "      <td>0</td>\n",
       "    </tr>\n",
       "    <tr>\n",
       "      <th>3</th>\n",
       "      <td>699</td>\n",
       "      <td>39</td>\n",
       "      <td>1</td>\n",
       "      <td>0.00</td>\n",
       "      <td>2</td>\n",
       "      <td>0</td>\n",
       "      <td>0</td>\n",
       "      <td>93826.63</td>\n",
       "      <td>0</td>\n",
       "      <td>0</td>\n",
       "      <td>0</td>\n",
       "    </tr>\n",
       "    <tr>\n",
       "      <th>4</th>\n",
       "      <td>850</td>\n",
       "      <td>43</td>\n",
       "      <td>2</td>\n",
       "      <td>125510.82</td>\n",
       "      <td>1</td>\n",
       "      <td>1</td>\n",
       "      <td>1</td>\n",
       "      <td>79084.10</td>\n",
       "      <td>0</td>\n",
       "      <td>1</td>\n",
       "      <td>0</td>\n",
       "    </tr>\n",
       "  </tbody>\n",
       "</table>\n",
       "</div>"
      ],
      "text/plain": [
       "   CreditScore  Age  Tenure    Balance  NumOfProducts  HasCrCard  \\\n",
       "0          619   42       2       0.00              1          1   \n",
       "1          608   41       1   83807.86              1          0   \n",
       "2          502   42       8  159660.80              3          1   \n",
       "3          699   39       1       0.00              2          0   \n",
       "4          850   43       2  125510.82              1          1   \n",
       "\n",
       "   IsActiveMember  EstimatedSalary  Geography_Germany  Geography_Spain  \\\n",
       "0               1        101348.88                  0                0   \n",
       "1               1        112542.58                  0                1   \n",
       "2               0        113931.57                  0                0   \n",
       "3               0         93826.63                  0                0   \n",
       "4               1         79084.10                  0                1   \n",
       "\n",
       "   Gender_Male  \n",
       "0            0  \n",
       "1            0  \n",
       "2            0  \n",
       "3            0  \n",
       "4            0  "
      ]
     },
     "execution_count": 121,
     "metadata": {},
     "output_type": "execute_result"
    }
   ],
   "source": [
    "X=pd.get_dummies(X, columns=['Geography', 'Gender'], drop_first=True)\n",
    "print(X.shape)\n",
    "X.head()"
   ]
  },
  {
   "cell_type": "markdown",
   "id": "6d27163b",
   "metadata": {},
   "source": [
    "### Train Test split"
   ]
  },
  {
   "cell_type": "code",
   "execution_count": 133,
   "id": "4f2aa7a8",
   "metadata": {},
   "outputs": [
    {
     "name": "stdout",
     "output_type": "stream",
     "text": [
      "(8000, 11) (8000,)\n",
      "(2000, 11) (2000,)\n"
     ]
    }
   ],
   "source": [
    "X_train, X_test, y_train, y_test = train_test_split(X, Y, test_size=0.2, random_state=17)\n",
    "print(X_train.shape, y_train.shape)\n",
    "print(X_test.shape, y_test.shape)"
   ]
  },
  {
   "cell_type": "markdown",
   "id": "61377001",
   "metadata": {},
   "source": [
    "### Standardize the numeric features"
   ]
  },
  {
   "cell_type": "code",
   "execution_count": 139,
   "id": "206e8b0b",
   "metadata": {},
   "outputs": [
    {
     "data": {
      "text/html": [
       "<div>\n",
       "<style scoped>\n",
       "    .dataframe tbody tr th:only-of-type {\n",
       "        vertical-align: middle;\n",
       "    }\n",
       "\n",
       "    .dataframe tbody tr th {\n",
       "        vertical-align: top;\n",
       "    }\n",
       "\n",
       "    .dataframe thead th {\n",
       "        text-align: right;\n",
       "    }\n",
       "</style>\n",
       "<table border=\"1\" class=\"dataframe\">\n",
       "  <thead>\n",
       "    <tr style=\"text-align: right;\">\n",
       "      <th></th>\n",
       "      <th>CreditScore</th>\n",
       "      <th>Age</th>\n",
       "      <th>Tenure</th>\n",
       "      <th>Balance</th>\n",
       "      <th>NumOfProducts</th>\n",
       "      <th>HasCrCard</th>\n",
       "      <th>IsActiveMember</th>\n",
       "      <th>EstimatedSalary</th>\n",
       "      <th>Geography_Germany</th>\n",
       "      <th>Geography_Spain</th>\n",
       "      <th>Gender_Male</th>\n",
       "    </tr>\n",
       "  </thead>\n",
       "  <tbody>\n",
       "    <tr>\n",
       "      <th>0</th>\n",
       "      <td>1.931128</td>\n",
       "      <td>0.389652</td>\n",
       "      <td>1.387073</td>\n",
       "      <td>0.743964</td>\n",
       "      <td>0.809356</td>\n",
       "      <td>0.644926</td>\n",
       "      <td>-1.023527</td>\n",
       "      <td>0.793509</td>\n",
       "      <td>-0.577543</td>\n",
       "      <td>1.742506</td>\n",
       "      <td>0.91486</td>\n",
       "    </tr>\n",
       "    <tr>\n",
       "      <th>1</th>\n",
       "      <td>0.140166</td>\n",
       "      <td>1.527739</td>\n",
       "      <td>1.040759</td>\n",
       "      <td>-1.222370</td>\n",
       "      <td>0.809356</td>\n",
       "      <td>0.644926</td>\n",
       "      <td>0.977014</td>\n",
       "      <td>0.678504</td>\n",
       "      <td>-0.577543</td>\n",
       "      <td>-0.573886</td>\n",
       "      <td>0.91486</td>\n",
       "    </tr>\n",
       "    <tr>\n",
       "      <th>2</th>\n",
       "      <td>0.747446</td>\n",
       "      <td>-0.179391</td>\n",
       "      <td>-0.690809</td>\n",
       "      <td>0.289631</td>\n",
       "      <td>0.809356</td>\n",
       "      <td>0.644926</td>\n",
       "      <td>-1.023527</td>\n",
       "      <td>0.366412</td>\n",
       "      <td>1.731474</td>\n",
       "      <td>-0.573886</td>\n",
       "      <td>0.91486</td>\n",
       "    </tr>\n",
       "    <tr>\n",
       "      <th>3</th>\n",
       "      <td>0.119580</td>\n",
       "      <td>0.010290</td>\n",
       "      <td>0.001818</td>\n",
       "      <td>1.010968</td>\n",
       "      <td>0.809356</td>\n",
       "      <td>0.644926</td>\n",
       "      <td>0.977014</td>\n",
       "      <td>0.801416</td>\n",
       "      <td>1.731474</td>\n",
       "      <td>-0.573886</td>\n",
       "      <td>0.91486</td>\n",
       "    </tr>\n",
       "    <tr>\n",
       "      <th>4</th>\n",
       "      <td>-0.137742</td>\n",
       "      <td>2.001942</td>\n",
       "      <td>-0.690809</td>\n",
       "      <td>-1.222370</td>\n",
       "      <td>0.809356</td>\n",
       "      <td>0.644926</td>\n",
       "      <td>0.977014</td>\n",
       "      <td>-0.522841</td>\n",
       "      <td>-0.577543</td>\n",
       "      <td>-0.573886</td>\n",
       "      <td>0.91486</td>\n",
       "    </tr>\n",
       "  </tbody>\n",
       "</table>\n",
       "</div>"
      ],
      "text/plain": [
       "   CreditScore       Age    Tenure   Balance  NumOfProducts  HasCrCard  \\\n",
       "0     1.931128  0.389652  1.387073  0.743964       0.809356   0.644926   \n",
       "1     0.140166  1.527739  1.040759 -1.222370       0.809356   0.644926   \n",
       "2     0.747446 -0.179391 -0.690809  0.289631       0.809356   0.644926   \n",
       "3     0.119580  0.010290  0.001818  1.010968       0.809356   0.644926   \n",
       "4    -0.137742  2.001942 -0.690809 -1.222370       0.809356   0.644926   \n",
       "\n",
       "   IsActiveMember  EstimatedSalary  Geography_Germany  Geography_Spain  \\\n",
       "0       -1.023527         0.793509          -0.577543         1.742506   \n",
       "1        0.977014         0.678504          -0.577543        -0.573886   \n",
       "2       -1.023527         0.366412           1.731474        -0.573886   \n",
       "3        0.977014         0.801416           1.731474        -0.573886   \n",
       "4        0.977014        -0.522841          -0.577543        -0.573886   \n",
       "\n",
       "   Gender_Male  \n",
       "0      0.91486  \n",
       "1      0.91486  \n",
       "2      0.91486  \n",
       "3      0.91486  \n",
       "4      0.91486  "
      ]
     },
     "execution_count": 139,
     "metadata": {},
     "output_type": "execute_result"
    }
   ],
   "source": [
    "sc = StandardScaler()\n",
    "X_train_std = sc.fit_transform(X_train)\n",
    "X_train_std = pd.DataFrame(X_train_std, columns=X_train.columns)\n",
    "X_train_std.head()\n"
   ]
  },
  {
   "cell_type": "code",
   "execution_count": 140,
   "id": "b8c8b323",
   "metadata": {},
   "outputs": [
    {
     "data": {
      "text/html": [
       "<div>\n",
       "<style scoped>\n",
       "    .dataframe tbody tr th:only-of-type {\n",
       "        vertical-align: middle;\n",
       "    }\n",
       "\n",
       "    .dataframe tbody tr th {\n",
       "        vertical-align: top;\n",
       "    }\n",
       "\n",
       "    .dataframe thead th {\n",
       "        text-align: right;\n",
       "    }\n",
       "</style>\n",
       "<table border=\"1\" class=\"dataframe\">\n",
       "  <thead>\n",
       "    <tr style=\"text-align: right;\">\n",
       "      <th></th>\n",
       "      <th>CreditScore</th>\n",
       "      <th>Age</th>\n",
       "      <th>Tenure</th>\n",
       "      <th>Balance</th>\n",
       "      <th>NumOfProducts</th>\n",
       "      <th>HasCrCard</th>\n",
       "      <th>IsActiveMember</th>\n",
       "      <th>EstimatedSalary</th>\n",
       "      <th>Geography_Germany</th>\n",
       "      <th>Geography_Spain</th>\n",
       "      <th>Gender_Male</th>\n",
       "    </tr>\n",
       "  </thead>\n",
       "  <tbody>\n",
       "    <tr>\n",
       "      <th>0</th>\n",
       "      <td>-0.950880</td>\n",
       "      <td>-0.653594</td>\n",
       "      <td>-0.344496</td>\n",
       "      <td>0.506451</td>\n",
       "      <td>-0.909022</td>\n",
       "      <td>0.644926</td>\n",
       "      <td>0.977014</td>\n",
       "      <td>0.758985</td>\n",
       "      <td>1.731474</td>\n",
       "      <td>-0.573886</td>\n",
       "      <td>0.914860</td>\n",
       "    </tr>\n",
       "    <tr>\n",
       "      <th>1</th>\n",
       "      <td>1.200333</td>\n",
       "      <td>-1.791680</td>\n",
       "      <td>-0.690809</td>\n",
       "      <td>0.689791</td>\n",
       "      <td>0.809356</td>\n",
       "      <td>-1.550566</td>\n",
       "      <td>0.977014</td>\n",
       "      <td>0.869600</td>\n",
       "      <td>1.731474</td>\n",
       "      <td>-0.573886</td>\n",
       "      <td>0.914860</td>\n",
       "    </tr>\n",
       "    <tr>\n",
       "      <th>2</th>\n",
       "      <td>0.901840</td>\n",
       "      <td>-0.938115</td>\n",
       "      <td>-1.037123</td>\n",
       "      <td>-1.222370</td>\n",
       "      <td>0.809356</td>\n",
       "      <td>0.644926</td>\n",
       "      <td>0.977014</td>\n",
       "      <td>1.222855</td>\n",
       "      <td>-0.577543</td>\n",
       "      <td>-0.573886</td>\n",
       "      <td>0.914860</td>\n",
       "    </tr>\n",
       "    <tr>\n",
       "      <th>3</th>\n",
       "      <td>1.272383</td>\n",
       "      <td>0.389652</td>\n",
       "      <td>-1.383437</td>\n",
       "      <td>0.544955</td>\n",
       "      <td>-0.909022</td>\n",
       "      <td>-1.550566</td>\n",
       "      <td>-1.023527</td>\n",
       "      <td>0.149863</td>\n",
       "      <td>-0.577543</td>\n",
       "      <td>1.742506</td>\n",
       "      <td>-1.093063</td>\n",
       "    </tr>\n",
       "    <tr>\n",
       "      <th>4</th>\n",
       "      <td>-1.414060</td>\n",
       "      <td>0.863855</td>\n",
       "      <td>-1.037123</td>\n",
       "      <td>-1.222370</td>\n",
       "      <td>-0.909022</td>\n",
       "      <td>0.644926</td>\n",
       "      <td>0.977014</td>\n",
       "      <td>0.252690</td>\n",
       "      <td>-0.577543</td>\n",
       "      <td>1.742506</td>\n",
       "      <td>0.914860</td>\n",
       "    </tr>\n",
       "  </tbody>\n",
       "</table>\n",
       "</div>"
      ],
      "text/plain": [
       "   CreditScore       Age    Tenure   Balance  NumOfProducts  HasCrCard  \\\n",
       "0    -0.950880 -0.653594 -0.344496  0.506451      -0.909022   0.644926   \n",
       "1     1.200333 -1.791680 -0.690809  0.689791       0.809356  -1.550566   \n",
       "2     0.901840 -0.938115 -1.037123 -1.222370       0.809356   0.644926   \n",
       "3     1.272383  0.389652 -1.383437  0.544955      -0.909022  -1.550566   \n",
       "4    -1.414060  0.863855 -1.037123 -1.222370      -0.909022   0.644926   \n",
       "\n",
       "   IsActiveMember  EstimatedSalary  Geography_Germany  Geography_Spain  \\\n",
       "0        0.977014         0.758985           1.731474        -0.573886   \n",
       "1        0.977014         0.869600           1.731474        -0.573886   \n",
       "2        0.977014         1.222855          -0.577543        -0.573886   \n",
       "3       -1.023527         0.149863          -0.577543         1.742506   \n",
       "4        0.977014         0.252690          -0.577543         1.742506   \n",
       "\n",
       "   Gender_Male  \n",
       "0     0.914860  \n",
       "1     0.914860  \n",
       "2     0.914860  \n",
       "3    -1.093063  \n",
       "4     0.914860  "
      ]
     },
     "execution_count": 140,
     "metadata": {},
     "output_type": "execute_result"
    }
   ],
   "source": [
    "X_test_std = sc.transform(X_test)\n",
    "X_test_std = pd.DataFrame(X_test_std, columns=X_test.columns)\n",
    "X_test_std.head()"
   ]
  },
  {
   "cell_type": "markdown",
   "id": "eb4fe38d",
   "metadata": {},
   "source": [
    "* Without standardization, 6% accuracy was dropped - Different scales of data might have troubled the cost function to converge towards global minima"
   ]
  },
  {
   "cell_type": "markdown",
   "id": "357c9466",
   "metadata": {},
   "source": [
    "### Built architecture of model"
   ]
  },
  {
   "cell_type": "code",
   "execution_count": 182,
   "id": "97e17cd3",
   "metadata": {},
   "outputs": [],
   "source": [
    "# Initialize the sequential model\n",
    "classifier = Sequential()\n",
    "\n",
    "#Define input layer\n",
    "classifier.add(Dense(units=11, activation='relu'))\n",
    "\n",
    "#Define hideen layer-1\n",
    "classifier.add(Dense(units=7, activation='relu'))\n",
    "#classifier.add(Dropout(0.2))\n",
    "\n",
    "#Define hideen layer-2\n",
    "classifier.add(Dense(units=6, activation='relu'))\n",
    "\n",
    "#Define output layer\n",
    "classifier.add(Dense(units=1, activation='sigmoid'))"
   ]
  },
  {
   "cell_type": "markdown",
   "id": "136ed737",
   "metadata": {},
   "source": [
    "### Compile the model defined above"
   ]
  },
  {
   "cell_type": "code",
   "execution_count": 183,
   "id": "a1827570",
   "metadata": {},
   "outputs": [],
   "source": [
    "#Define the optimizer\n",
    "adam_opt=tf.keras.optimizers.Adam(learning_rate=0.01)\n",
    "\n",
    "\n",
    "#Compile the model defined with selected optimizer\n",
    "classifier.compile(optimizer=adam_opt, loss='binary_crossentropy', metrics=['accuracy'])"
   ]
  },
  {
   "cell_type": "markdown",
   "id": "65d80882",
   "metadata": {},
   "source": [
    "### Early stopping - To stop the training when monitored metric doesn't improve"
   ]
  },
  {
   "cell_type": "code",
   "execution_count": 185,
   "id": "52349220",
   "metadata": {},
   "outputs": [],
   "source": [
    "early_stopping = tf.keras.callbacks.EarlyStopping(\n",
    "                 monitor=\"val_loss\",\n",
    "                 min_delta=0.0001,\n",
    "                 patience=50,\n",
    "                 verbose=1,\n",
    "                 mode=\"auto\",\n",
    "                 baseline=None,\n",
    "                 restore_best_weights=False,\n",
    "                )"
   ]
  },
  {
   "cell_type": "code",
   "execution_count": 186,
   "id": "0ce0af19",
   "metadata": {},
   "outputs": [
    {
     "name": "stdout",
     "output_type": "stream",
     "text": [
      "Epoch 1/1000\n",
      "560/560 [==============================] - 3s 3ms/step - loss: 0.4175 - accuracy: 0.8175 - val_loss: 0.3806 - val_accuracy: 0.8462\n",
      "Epoch 2/1000\n",
      "560/560 [==============================] - 1s 3ms/step - loss: 0.3740 - accuracy: 0.8527 - val_loss: 0.3711 - val_accuracy: 0.8504\n",
      "Epoch 3/1000\n",
      "560/560 [==============================] - 1s 3ms/step - loss: 0.3644 - accuracy: 0.8557 - val_loss: 0.3599 - val_accuracy: 0.8525\n",
      "Epoch 4/1000\n",
      "560/560 [==============================] - 1s 2ms/step - loss: 0.3581 - accuracy: 0.8580 - val_loss: 0.3629 - val_accuracy: 0.8537\n",
      "Epoch 5/1000\n",
      "560/560 [==============================] - 1s 2ms/step - loss: 0.3541 - accuracy: 0.8614 - val_loss: 0.3582 - val_accuracy: 0.8550\n",
      "Epoch 6/1000\n",
      "560/560 [==============================] - 1s 3ms/step - loss: 0.3506 - accuracy: 0.8609 - val_loss: 0.3568 - val_accuracy: 0.8550\n",
      "Epoch 7/1000\n",
      "560/560 [==============================] - 1s 2ms/step - loss: 0.3486 - accuracy: 0.8604 - val_loss: 0.3581 - val_accuracy: 0.8504\n",
      "Epoch 8/1000\n",
      "560/560 [==============================] - 1s 2ms/step - loss: 0.3460 - accuracy: 0.8596 - val_loss: 0.3869 - val_accuracy: 0.8371\n",
      "Epoch 9/1000\n",
      "560/560 [==============================] - 1s 2ms/step - loss: 0.3472 - accuracy: 0.8570 - val_loss: 0.3518 - val_accuracy: 0.8542\n",
      "Epoch 10/1000\n",
      "560/560 [==============================] - 1s 2ms/step - loss: 0.3448 - accuracy: 0.8618 - val_loss: 0.3468 - val_accuracy: 0.8562\n",
      "Epoch 11/1000\n",
      "560/560 [==============================] - 1s 2ms/step - loss: 0.3459 - accuracy: 0.8598 - val_loss: 0.3480 - val_accuracy: 0.8567\n",
      "Epoch 12/1000\n",
      "560/560 [==============================] - 1s 2ms/step - loss: 0.3423 - accuracy: 0.8616 - val_loss: 0.3470 - val_accuracy: 0.8562\n",
      "Epoch 13/1000\n",
      "560/560 [==============================] - 1s 3ms/step - loss: 0.3389 - accuracy: 0.8621 - val_loss: 0.3552 - val_accuracy: 0.8496\n",
      "Epoch 14/1000\n",
      "560/560 [==============================] - 1s 3ms/step - loss: 0.3384 - accuracy: 0.8646 - val_loss: 0.3459 - val_accuracy: 0.8583\n",
      "Epoch 15/1000\n",
      "560/560 [==============================] - 2s 3ms/step - loss: 0.3373 - accuracy: 0.8634 - val_loss: 0.3558 - val_accuracy: 0.8525\n",
      "Epoch 16/1000\n",
      "560/560 [==============================] - 2s 3ms/step - loss: 0.3379 - accuracy: 0.8630 - val_loss: 0.3469 - val_accuracy: 0.8567\n",
      "Epoch 17/1000\n",
      "560/560 [==============================] - 1s 3ms/step - loss: 0.3365 - accuracy: 0.8639 - val_loss: 0.3541 - val_accuracy: 0.8537\n",
      "Epoch 18/1000\n",
      "560/560 [==============================] - 2s 3ms/step - loss: 0.3361 - accuracy: 0.8639 - val_loss: 0.3525 - val_accuracy: 0.8575\n",
      "Epoch 19/1000\n",
      "560/560 [==============================] - 1s 3ms/step - loss: 0.3382 - accuracy: 0.8616 - val_loss: 0.3569 - val_accuracy: 0.8458\n",
      "Epoch 20/1000\n",
      "560/560 [==============================] - 2s 3ms/step - loss: 0.3359 - accuracy: 0.8637 - val_loss: 0.3664 - val_accuracy: 0.8529\n",
      "Epoch 21/1000\n",
      "560/560 [==============================] - 2s 3ms/step - loss: 0.3362 - accuracy: 0.8604 - val_loss: 0.3461 - val_accuracy: 0.8558\n",
      "Epoch 22/1000\n",
      "560/560 [==============================] - 2s 3ms/step - loss: 0.3340 - accuracy: 0.8639 - val_loss: 0.3640 - val_accuracy: 0.8546\n",
      "Epoch 23/1000\n",
      "560/560 [==============================] - 2s 3ms/step - loss: 0.3333 - accuracy: 0.8648 - val_loss: 0.3492 - val_accuracy: 0.8579\n",
      "Epoch 24/1000\n",
      "560/560 [==============================] - 2s 3ms/step - loss: 0.3336 - accuracy: 0.8620 - val_loss: 0.3469 - val_accuracy: 0.8608\n",
      "Epoch 25/1000\n",
      "560/560 [==============================] - 2s 3ms/step - loss: 0.3358 - accuracy: 0.8611 - val_loss: 0.3541 - val_accuracy: 0.8529\n",
      "Epoch 26/1000\n",
      "560/560 [==============================] - 1s 3ms/step - loss: 0.3307 - accuracy: 0.8648 - val_loss: 0.3456 - val_accuracy: 0.8529\n",
      "Epoch 27/1000\n",
      "560/560 [==============================] - 1s 3ms/step - loss: 0.3298 - accuracy: 0.8636 - val_loss: 0.3681 - val_accuracy: 0.8533\n",
      "Epoch 28/1000\n",
      "560/560 [==============================] - 1s 2ms/step - loss: 0.3348 - accuracy: 0.8604 - val_loss: 0.3486 - val_accuracy: 0.8496\n",
      "Epoch 29/1000\n",
      "560/560 [==============================] - 2s 3ms/step - loss: 0.3300 - accuracy: 0.8659 - val_loss: 0.3416 - val_accuracy: 0.8592\n",
      "Epoch 30/1000\n",
      "560/560 [==============================] - 2s 3ms/step - loss: 0.3326 - accuracy: 0.8648 - val_loss: 0.3507 - val_accuracy: 0.8596\n",
      "Epoch 31/1000\n",
      "560/560 [==============================] - 2s 3ms/step - loss: 0.3300 - accuracy: 0.8661 - val_loss: 0.3559 - val_accuracy: 0.8567\n",
      "Epoch 32/1000\n",
      "560/560 [==============================] - 1s 3ms/step - loss: 0.3305 - accuracy: 0.8641 - val_loss: 0.3570 - val_accuracy: 0.8496\n",
      "Epoch 33/1000\n",
      "560/560 [==============================] - 1s 3ms/step - loss: 0.3301 - accuracy: 0.8643 - val_loss: 0.3571 - val_accuracy: 0.8537\n",
      "Epoch 34/1000\n",
      "560/560 [==============================] - 1s 3ms/step - loss: 0.3321 - accuracy: 0.8654 - val_loss: 0.3566 - val_accuracy: 0.8525\n",
      "Epoch 35/1000\n",
      "560/560 [==============================] - 1s 3ms/step - loss: 0.3287 - accuracy: 0.8664 - val_loss: 0.3698 - val_accuracy: 0.8537\n",
      "Epoch 36/1000\n",
      "560/560 [==============================] - 1s 3ms/step - loss: 0.3298 - accuracy: 0.8629 - val_loss: 0.3700 - val_accuracy: 0.8508\n",
      "Epoch 37/1000\n",
      "560/560 [==============================] - 1s 2ms/step - loss: 0.3306 - accuracy: 0.8686 - val_loss: 0.3643 - val_accuracy: 0.8517\n",
      "Epoch 38/1000\n",
      "560/560 [==============================] - 1s 3ms/step - loss: 0.3281 - accuracy: 0.8668 - val_loss: 0.3634 - val_accuracy: 0.8500\n",
      "Epoch 39/1000\n",
      "560/560 [==============================] - 1s 2ms/step - loss: 0.3261 - accuracy: 0.8680 - val_loss: 0.3589 - val_accuracy: 0.8562\n",
      "Epoch 40/1000\n",
      "560/560 [==============================] - 1s 3ms/step - loss: 0.3301 - accuracy: 0.8641 - val_loss: 0.3638 - val_accuracy: 0.8558\n",
      "Epoch 41/1000\n",
      "560/560 [==============================] - 1s 3ms/step - loss: 0.3286 - accuracy: 0.8670 - val_loss: 0.3512 - val_accuracy: 0.8608\n",
      "Epoch 42/1000\n",
      "560/560 [==============================] - 1s 3ms/step - loss: 0.3287 - accuracy: 0.8682 - val_loss: 0.3733 - val_accuracy: 0.8500\n",
      "Epoch 43/1000\n",
      "560/560 [==============================] - 2s 3ms/step - loss: 0.3281 - accuracy: 0.8643 - val_loss: 0.3607 - val_accuracy: 0.8546\n",
      "Epoch 44/1000\n",
      "560/560 [==============================] - 1s 3ms/step - loss: 0.3270 - accuracy: 0.8670 - val_loss: 0.3584 - val_accuracy: 0.8567\n",
      "Epoch 45/1000\n",
      "560/560 [==============================] - 2s 3ms/step - loss: 0.3275 - accuracy: 0.8632 - val_loss: 0.3799 - val_accuracy: 0.8533\n",
      "Epoch 46/1000\n",
      "560/560 [==============================] - 2s 3ms/step - loss: 0.3266 - accuracy: 0.8671 - val_loss: 0.3634 - val_accuracy: 0.8592\n",
      "Epoch 47/1000\n",
      "560/560 [==============================] - 1s 3ms/step - loss: 0.3239 - accuracy: 0.8695 - val_loss: 0.3562 - val_accuracy: 0.8537\n",
      "Epoch 48/1000\n",
      "560/560 [==============================] - 2s 3ms/step - loss: 0.3247 - accuracy: 0.8704 - val_loss: 0.3566 - val_accuracy: 0.8562\n",
      "Epoch 49/1000\n",
      "560/560 [==============================] - 2s 3ms/step - loss: 0.3283 - accuracy: 0.8655 - val_loss: 0.3614 - val_accuracy: 0.8546\n",
      "Epoch 50/1000\n",
      "560/560 [==============================] - 2s 3ms/step - loss: 0.3255 - accuracy: 0.8695 - val_loss: 0.3556 - val_accuracy: 0.8567\n",
      "Epoch 51/1000\n",
      "560/560 [==============================] - 2s 3ms/step - loss: 0.3249 - accuracy: 0.8670 - val_loss: 0.3618 - val_accuracy: 0.8504\n",
      "Epoch 52/1000\n",
      "560/560 [==============================] - 2s 3ms/step - loss: 0.3231 - accuracy: 0.8702 - val_loss: 0.3791 - val_accuracy: 0.8517\n",
      "Epoch 53/1000\n",
      "560/560 [==============================] - 1s 2ms/step - loss: 0.3238 - accuracy: 0.8687 - val_loss: 0.3617 - val_accuracy: 0.8492\n",
      "Epoch 54/1000\n",
      "560/560 [==============================] - 1s 2ms/step - loss: 0.3219 - accuracy: 0.8716 - val_loss: 0.3582 - val_accuracy: 0.8550\n",
      "Epoch 55/1000\n",
      "560/560 [==============================] - 1s 2ms/step - loss: 0.3228 - accuracy: 0.8707 - val_loss: 0.3806 - val_accuracy: 0.8517\n",
      "Epoch 56/1000\n",
      "560/560 [==============================] - 2s 3ms/step - loss: 0.3249 - accuracy: 0.8675 - val_loss: 0.3665 - val_accuracy: 0.8546\n",
      "Epoch 57/1000\n"
     ]
    },
    {
     "name": "stdout",
     "output_type": "stream",
     "text": [
      "560/560 [==============================] - 2s 3ms/step - loss: 0.3218 - accuracy: 0.8691 - val_loss: 0.3728 - val_accuracy: 0.8542\n",
      "Epoch 58/1000\n",
      "560/560 [==============================] - 2s 3ms/step - loss: 0.3225 - accuracy: 0.8691 - val_loss: 0.3772 - val_accuracy: 0.8554\n",
      "Epoch 59/1000\n",
      "560/560 [==============================] - 2s 3ms/step - loss: 0.3207 - accuracy: 0.8723 - val_loss: 0.3700 - val_accuracy: 0.8558\n",
      "Epoch 60/1000\n",
      "560/560 [==============================] - 1s 3ms/step - loss: 0.3224 - accuracy: 0.8686 - val_loss: 0.3622 - val_accuracy: 0.8571\n",
      "Epoch 61/1000\n",
      "560/560 [==============================] - 1s 3ms/step - loss: 0.3247 - accuracy: 0.8686 - val_loss: 0.3822 - val_accuracy: 0.8537\n",
      "Epoch 62/1000\n",
      "560/560 [==============================] - 1s 3ms/step - loss: 0.3221 - accuracy: 0.8704 - val_loss: 0.3911 - val_accuracy: 0.8525\n",
      "Epoch 63/1000\n",
      "560/560 [==============================] - 2s 3ms/step - loss: 0.3244 - accuracy: 0.8684 - val_loss: 0.3646 - val_accuracy: 0.8546\n",
      "Epoch 64/1000\n",
      "560/560 [==============================] - 2s 3ms/step - loss: 0.3226 - accuracy: 0.8720 - val_loss: 0.3665 - val_accuracy: 0.8546\n",
      "Epoch 65/1000\n",
      "560/560 [==============================] - 2s 3ms/step - loss: 0.3224 - accuracy: 0.8686 - val_loss: 0.3645 - val_accuracy: 0.8562\n",
      "Epoch 66/1000\n",
      "560/560 [==============================] - 2s 3ms/step - loss: 0.3202 - accuracy: 0.8698 - val_loss: 0.3792 - val_accuracy: 0.8562\n",
      "Epoch 67/1000\n",
      "560/560 [==============================] - 2s 3ms/step - loss: 0.3215 - accuracy: 0.8700 - val_loss: 0.3794 - val_accuracy: 0.8567\n",
      "Epoch 68/1000\n",
      "560/560 [==============================] - 2s 3ms/step - loss: 0.3233 - accuracy: 0.8677 - val_loss: 0.3778 - val_accuracy: 0.8550\n",
      "Epoch 69/1000\n",
      "560/560 [==============================] - 2s 3ms/step - loss: 0.3200 - accuracy: 0.8720 - val_loss: 0.3873 - val_accuracy: 0.8542\n",
      "Epoch 70/1000\n",
      "560/560 [==============================] - 2s 3ms/step - loss: 0.3226 - accuracy: 0.8700 - val_loss: 0.3712 - val_accuracy: 0.8537\n",
      "Epoch 71/1000\n",
      "560/560 [==============================] - 2s 3ms/step - loss: 0.3184 - accuracy: 0.8686 - val_loss: 0.3612 - val_accuracy: 0.8562\n",
      "Epoch 72/1000\n",
      "560/560 [==============================] - 2s 3ms/step - loss: 0.3197 - accuracy: 0.8707 - val_loss: 0.3785 - val_accuracy: 0.8475\n",
      "Epoch 73/1000\n",
      "560/560 [==============================] - 2s 3ms/step - loss: 0.3205 - accuracy: 0.8695 - val_loss: 0.3566 - val_accuracy: 0.8567\n",
      "Epoch 74/1000\n",
      "560/560 [==============================] - 2s 3ms/step - loss: 0.3179 - accuracy: 0.8714 - val_loss: 0.3613 - val_accuracy: 0.8587\n",
      "Epoch 75/1000\n",
      "560/560 [==============================] - 2s 3ms/step - loss: 0.3189 - accuracy: 0.8698 - val_loss: 0.3657 - val_accuracy: 0.8579\n",
      "Epoch 76/1000\n",
      "560/560 [==============================] - 2s 3ms/step - loss: 0.3212 - accuracy: 0.8695 - val_loss: 0.3919 - val_accuracy: 0.8525\n",
      "Epoch 77/1000\n",
      "560/560 [==============================] - 2s 3ms/step - loss: 0.3212 - accuracy: 0.8695 - val_loss: 0.3618 - val_accuracy: 0.8533\n",
      "Epoch 78/1000\n",
      "560/560 [==============================] - 1s 2ms/step - loss: 0.3216 - accuracy: 0.8686 - val_loss: 0.3676 - val_accuracy: 0.8571\n",
      "Epoch 79/1000\n",
      "560/560 [==============================] - 1s 2ms/step - loss: 0.3186 - accuracy: 0.8704 - val_loss: 0.3950 - val_accuracy: 0.8558\n",
      "Epoch 79: early stopping\n"
     ]
    }
   ],
   "source": [
    "model_fit = classifier.fit(X_train_std, y_train, validation_split=0.3, batch_size=10, epochs=1000, callbacks=early_stopping)"
   ]
  },
  {
   "cell_type": "code",
   "execution_count": 187,
   "id": "2887baee",
   "metadata": {},
   "outputs": [
    {
     "name": "stdout",
     "output_type": "stream",
     "text": [
      "Model: \"sequential_3\"\n",
      "_________________________________________________________________\n",
      " Layer (type)                Output Shape              Param #   \n",
      "=================================================================\n",
      " dense_12 (Dense)            (10, 11)                  132       \n",
      "                                                                 \n",
      " dense_13 (Dense)            (10, 7)                   84        \n",
      "                                                                 \n",
      " dense_14 (Dense)            (10, 6)                   48        \n",
      "                                                                 \n",
      " dense_15 (Dense)            (10, 1)                   7         \n",
      "                                                                 \n",
      "=================================================================\n",
      "Total params: 271\n",
      "Trainable params: 271\n",
      "Non-trainable params: 0\n",
      "_________________________________________________________________\n"
     ]
    }
   ],
   "source": [
    "classifier.summary()"
   ]
  },
  {
   "cell_type": "code",
   "execution_count": 188,
   "id": "f4c87f9f",
   "metadata": {},
   "outputs": [
    {
     "name": "stdout",
     "output_type": "stream",
     "text": [
      "dict_keys(['loss', 'accuracy', 'val_loss', 'val_accuracy'])\n"
     ]
    }
   ],
   "source": [
    "print(model_fit.history.keys())"
   ]
  },
  {
   "cell_type": "markdown",
   "id": "a408961a",
   "metadata": {},
   "source": [
    "### Plot for accuracy"
   ]
  },
  {
   "cell_type": "code",
   "execution_count": 160,
   "id": "ee6fc831",
   "metadata": {},
   "outputs": [
    {
     "data": {
      "image/png": "[encoded data removed]",
      "text/plain": [
       "<Figure size 640x480 with 1 Axes>"
      ]
     },
     "metadata": {},
     "output_type": "display_data"
    }
   ],
   "source": [
    "plt.plot(model_fit.history['accuracy'])\n",
    "plt.plot(model_fit.history['val_accuracy'])\n",
    "plt.title('Model accuracy')\n",
    "plt.ylabel('Accuracy')\n",
    "plt.xlabel('Epoch')\n",
    "plt.legend(['Train', 'Test'], loc='upper left')\n",
    "plt.show()"
   ]
  },
  {
   "cell_type": "markdown",
   "id": "c368d4ea",
   "metadata": {},
   "source": [
    "### Plot for loss"
   ]
  },
  {
   "cell_type": "code",
   "execution_count": 161,
   "id": "1c2c5151",
   "metadata": {},
   "outputs": [
    {
     "data": {
      "image/png": "[encoded data removed]",
      "text/plain": [
       "<Figure size 640x480 with 1 Axes>"
      ]
     },
     "metadata": {},
     "output_type": "display_data"
    }
   ],
   "source": [
    "plt.plot(model_fit.history['loss'])\n",
    "plt.plot(model_fit.history['val_loss'])\n",
    "plt.title('Model loss')\n",
    "plt.ylabel('Loss')\n",
    "plt.xlabel('Epoch')\n",
    "plt.legend(['Train', 'Test'], loc='upper left')\n",
    "plt.show()"
   ]
  },
  {
   "cell_type": "markdown",
   "id": "32c396df",
   "metadata": {},
   "source": [
    "### Predict the test data"
   ]
  },
  {
   "cell_type": "code",
   "execution_count": 166,
   "id": "e0dc4266",
   "metadata": {},
   "outputs": [
    {
     "name": "stdout",
     "output_type": "stream",
     "text": [
      "63/63 [==============================] - 0s 1ms/step\n"
     ]
    },
    {
     "data": {
      "text/plain": [
       "array([[0.24762996],\n",
       "       [0.0026145 ],\n",
       "       [0.00121646],\n",
       "       [0.47703487],\n",
       "       [0.46503848]], dtype=float32)"
      ]
     },
     "execution_count": 166,
     "metadata": {},
     "output_type": "execute_result"
    }
   ],
   "source": [
    "y_pred = classifier.predict(X_test_std)\n",
    "y_pred[0:5]"
   ]
  },
  {
   "cell_type": "code",
   "execution_count": 167,
   "id": "8adccdc1",
   "metadata": {},
   "outputs": [
    {
     "data": {
      "text/plain": [
       "array([[False],\n",
       "       [False],\n",
       "       [False],\n",
       "       [False],\n",
       "       [False]])"
      ]
     },
     "execution_count": 167,
     "metadata": {},
     "output_type": "execute_result"
    }
   ],
   "source": [
    "y_pred = (y_pred >= 0.5)\n",
    "y_pred[0:5]"
   ]
  },
  {
   "cell_type": "markdown",
   "id": "4d88e45e",
   "metadata": {},
   "source": [
    "### Evaluation matrix"
   ]
  },
  {
   "cell_type": "code",
   "execution_count": 169,
   "id": "71bca7f9",
   "metadata": {},
   "outputs": [
    {
     "data": {
      "text/plain": [
       "array([[1515,   71],\n",
       "       [ 246,  168]], dtype=int64)"
      ]
     },
     "execution_count": 169,
     "metadata": {},
     "output_type": "execute_result"
    }
   ],
   "source": [
    "cm = confusion_matrix(y_test, y_pred)\n",
    "cm"
   ]
  },
  {
   "cell_type": "code",
   "execution_count": 171,
   "id": "44077e93",
   "metadata": {},
   "outputs": [
    {
     "name": "stdout",
     "output_type": "stream",
     "text": [
      "              precision    recall  f1-score   support\n",
      "\n",
      "           0       0.86      0.96      0.91      1586\n",
      "           1       0.70      0.41      0.51       414\n",
      "\n",
      "    accuracy                           0.84      2000\n",
      "   macro avg       0.78      0.68      0.71      2000\n",
      "weighted avg       0.83      0.84      0.82      2000\n",
      "\n"
     ]
    }
   ],
   "source": [
    "print(classification_report(y_test, y_pred))"
   ]
  },
  {
   "cell_type": "markdown",
   "id": "4dd64293",
   "metadata": {},
   "source": [
    "* Due to class imbalance model is not performing well for class 1 (churn class)"
   ]
  },
  {
   "cell_type": "code",
   "execution_count": 190,
   "id": "76a56ea7",
   "metadata": {},
   "outputs": [
    {
     "data": {
      "text/plain": [
       "[array([[-0.90764236, -0.2449298 , -1.0462626 ,  0.86224276, -1.2253345 ,\n",
       "          0.07034295,  2.2267892 , -0.57556564, -0.33522493, -0.56840473,\n",
       "          0.93934304],\n",
       "        [ 1.0785185 , -5.671017  , -3.0022216 ,  0.89405316, -0.56196994,\n",
       "         -0.5901492 , -0.72776663, -5.050076  ,  3.0561218 ,  1.5436132 ,\n",
       "          2.0288663 ],\n",
       "        [ 0.33331805, -0.6916176 ,  2.4621034 , -0.86119705, -1.1372818 ,\n",
       "          0.09575431,  0.8798543 ,  0.79717875,  0.5032983 ,  0.00741457,\n",
       "          0.29791114],\n",
       "        [-1.7771224 ,  0.64139915, -0.3043456 , -0.7604248 , -0.5538081 ,\n",
       "         -2.0529869 ,  0.3426946 ,  1.0539902 ,  0.29327926,  2.192562  ,\n",
       "         -1.1924863 ],\n",
       "        [-4.4796386 ,  0.246717  ,  1.3910701 , -0.07687058,  3.7313406 ,\n",
       "          3.6865313 ,  0.85795665,  1.0896004 ,  0.6553135 ,  4.3374953 ,\n",
       "          0.5213394 ],\n",
       "        [-0.63717884, -0.27274695,  1.2163798 , -1.2527933 , -1.421678  ,\n",
       "         -0.27412748, -1.7133596 , -0.88863766, -0.3911547 , -0.2806275 ,\n",
       "          1.2739652 ],\n",
       "        [-3.0204914 , -0.34759757,  0.21218923, -1.4946393 , -0.44722545,\n",
       "         -0.6333467 ,  0.03892795, -2.9768322 ,  2.080169  , -0.6988637 ,\n",
       "          2.1717505 ],\n",
       "        [ 0.44313   , -0.08683626, -0.13122459,  0.45147207,  1.3636639 ,\n",
       "          0.06872453,  0.26135525,  0.11301761, -0.00605661, -0.25924215,\n",
       "          1.4650416 ],\n",
       "        [ 2.1780562 ,  0.10342404, -0.3325758 , -2.205439  ,  1.9414384 ,\n",
       "          0.07912491,  0.82423854, -2.3365006 ,  0.04759238, -1.3399961 ,\n",
       "         -0.4785424 ],\n",
       "        [ 0.14851438, -0.31689638,  0.16514586, -1.171003  ,  1.6683676 ,\n",
       "         -0.35702267,  1.6751003 , -0.64776075, -0.78621453,  0.43542725,\n",
       "          1.097486  ],\n",
       "        [ 0.06040238,  0.670199  ,  2.5297024 , -0.18528628,  0.63012385,\n",
       "         -1.1947457 ,  0.275166  , -0.3359931 ,  0.43418044, -0.24847351,\n",
       "         -1.3198469 ]], dtype=float32),\n",
       " array([ 0.06036605,  3.8284452 ,  1.2490071 , -1.1317136 , -4.4403954 ,\n",
       "        -2.323929  , -5.008021  , -0.03264588, -6.0724587 , -4.083723  ,\n",
       "        -6.069251  ], dtype=float32),\n",
       " array([[-1.5361552 , -0.69650406, -2.3742704 , -2.1848774 ,  0.9372465 ,\n",
       "         -1.4532032 , -4.3895187 ],\n",
       "        [-0.7276878 ,  0.80095166, -1.6314759 , -0.25351876, -2.930562  ,\n",
       "         -4.6309147 ,  1.095434  ],\n",
       "        [ 0.4465932 ,  0.20220894, -0.8843291 ,  1.278818  , -2.1257918 ,\n",
       "          1.8440479 , -0.9131914 ],\n",
       "        [-1.1496189 ,  0.19027399,  0.85128343,  0.49690768,  0.695815  ,\n",
       "          1.3927495 ,  0.9412535 ],\n",
       "        [ 1.5173796 , -0.36141896, -0.4126636 ,  2.4354093 , -2.9513037 ,\n",
       "          1.7161976 ,  2.0914814 ],\n",
       "        [ 1.8377522 ,  0.8588855 ,  0.6760312 ,  1.6492199 , -1.0337057 ,\n",
       "         -0.10581399, -1.6680287 ],\n",
       "        [ 0.10866792, -0.5651828 ,  2.5840914 , -0.2880719 , -0.8774921 ,\n",
       "          2.2475963 ,  0.22629894],\n",
       "        [-0.25973135,  0.76694274, -2.3525143 , -1.1956451 , -3.893692  ,\n",
       "         -0.5383642 , -0.7247607 ],\n",
       "        [-2.089719  ,  1.6844298 , -4.639988  , -2.8351583 , -2.2823246 ,\n",
       "          0.9946244 ,  0.6917838 ],\n",
       "        [ 2.2063785 , -0.532114  ,  1.067056  , -3.534735  ,  1.0366782 ,\n",
       "         -0.9572658 , -4.463668  ],\n",
       "        [-2.1865692 ,  2.5344188 ,  2.2060463 , -0.24405673, -4.0092516 ,\n",
       "          0.34304327,  2.4655068 ]], dtype=float32),\n",
       " array([-6.803565 ,  1.0255498, -2.8667183,  2.4308028,  1.1084993,\n",
       "        -1.8040246, -0.9785546], dtype=float32),\n",
       " array([[-0.93065226, -1.5596222 , -0.51352113,  1.369602  , -3.2357583 ,\n",
       "          0.42139718],\n",
       "        [-1.0820205 , -2.0688083 , -0.5781279 ,  0.04423236,  0.24249335,\n",
       "         -1.0856005 ],\n",
       "        [-0.2706526 , -2.0421333 , -0.9631216 ,  2.4414482 , -1.1618307 ,\n",
       "          0.44999036],\n",
       "        [ 0.03111825, -1.7067351 , -1.1683036 , -1.6867548 ,  0.66612786,\n",
       "         -2.1332874 ],\n",
       "        [-0.30553818, -3.1394157 ,  0.07941025,  1.1231358 , -0.75637496,\n",
       "          0.26862875],\n",
       "        [-0.37973976, -0.9349229 , -0.92763305,  0.8376995 ,  1.0843564 ,\n",
       "         -2.7893097 ],\n",
       "        [-0.27665097, -0.76157045, -0.30606842, -3.6013343 ,  0.69515973,\n",
       "         -1.9581468 ]], dtype=float32),\n",
       " array([-0.3938581 ,  0.66663724, -1.5231006 , -1.9793429 ,  0.80540156,\n",
       "        -5.2697883 ], dtype=float32),\n",
       " array([[ 0.16060092],\n",
       "        [ 0.7866483 ],\n",
       "        [-0.06288411],\n",
       "        [ 0.30770582],\n",
       "        [-0.30797234],\n",
       "        [-0.08351695]], dtype=float32),\n",
       " array([-0.55458033], dtype=float32)]"
      ]
     },
     "execution_count": 190,
     "metadata": {},
     "output_type": "execute_result"
    }
   ],
   "source": [
    "classifier.get_weights()"
   ]
  },
  {
   "cell_type": "code",
   "execution_count": null,
   "id": "2384aeb8",
   "metadata": {},
   "outputs": [],
   "source": []
  }
 ],
 "metadata": {
  "kernelspec": {
   "display_name": "Python 3.9.7 64-bit",
   "language": "python",
   "name": "python3"
  },
  "language_info": {
   "codemirror_mode": {
    "name": "ipython",
    "version": 3
   },
   "file_extension": ".py",
   "mimetype": "text/x-python",
   "name": "python",
   "nbconvert_exporter": "python",
   "pygments_lexer": "ipython3",
   "version": "3.9.7"
  },
  "vscode": {
   "interpreter": {
    "hash": "e09d908c01afe9e5d0af6a60a767721da669d716e788f394ccec9a7fdc4030e2"
   }
  }
 },
 "nbformat": 4,
 "nbformat_minor": 5
}
